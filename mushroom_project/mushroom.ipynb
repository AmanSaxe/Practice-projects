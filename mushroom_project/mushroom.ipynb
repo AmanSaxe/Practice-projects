{
 "cells": [
  {
   "cell_type": "code",
   "execution_count": null,
   "id": "42d79f62",
   "metadata": {},
   "outputs": [],
   "source": [
    "import pandas as pd\n",
    "import numpy as np\n",
    "import matplotlib.pyplot as plt\n",
    "import seaborn as sns\n",
    "from sklearn.linear_model import LogisticRegression\n",
    "from sklearn.metrics import accuracy_score,confusion_matrix,classification_report\n",
    "from sklearn.model_selection import train_test_split\n",
    "import warnings\n",
    "warnings.filterwarnings('ignore')"
   ]
  },
  {
   "cell_type": "code",
   "execution_count": null,
   "id": "e0b721cc",
   "metadata": {},
   "outputs": [],
   "source": [
    "data=pd.read_csv('mushrooms.csv')\n",
    "data"
   ]
  },
  {
   "cell_type": "code",
   "execution_count": null,
   "id": "a8254190",
   "metadata": {},
   "outputs": [],
   "source": [
    "data.shape"
   ]
  },
  {
   "cell_type": "code",
   "execution_count": null,
   "id": "73ac4a78",
   "metadata": {},
   "outputs": [],
   "source": [
    "data.describe()"
   ]
  },
  {
   "cell_type": "code",
   "execution_count": null,
   "id": "a1e1adab",
   "metadata": {},
   "outputs": [],
   "source": [
    "data.isna().sum()"
   ]
  },
  {
   "cell_type": "markdown",
   "id": "23c07ff4",
   "metadata": {},
   "source": [
    "### Target Variable"
   ]
  },
  {
   "cell_type": "code",
   "execution_count": null,
   "id": "915b48a2",
   "metadata": {},
   "outputs": [],
   "source": [
    "data['class'].value_counts()"
   ]
  },
  {
   "cell_type": "code",
   "execution_count": null,
   "id": "c307b0fd",
   "metadata": {},
   "outputs": [],
   "source": [
    "data['class'].hist(grid=False)\n",
    "plt.title('edible vs poisonous')\n",
    "plt.show"
   ]
  },
  {
   "cell_type": "code",
   "execution_count": null,
   "id": "a3340230",
   "metadata": {},
   "outputs": [],
   "source": [
    "from sklearn.preprocessing import LabelEncoder\n",
    "LE=LabelEncoder()"
   ]
  },
  {
   "cell_type": "code",
   "execution_count": null,
   "id": "c0802819",
   "metadata": {},
   "outputs": [],
   "source": [
    "data[\"class\"]=LE.fit_transform(data[\"class\"])\n",
    "data[\"class\"].value_counts()"
   ]
  },
  {
   "cell_type": "code",
   "execution_count": null,
   "id": "e5287cc8",
   "metadata": {},
   "outputs": [],
   "source": [
    "data[\"cap-shape\"]=LE.fit_transform(data[\"cap-shape\"])\n",
    "data[\"cap-surface\"]=LE.fit_transform(data[\"cap-surface\"])\n",
    "data[\"cap-color\"]=LE.fit_transform(data[\"cap-color\"])\n",
    "data[\"bruises\"]=LE.fit_transform(data[\"bruises\"])\n",
    "data[\"odor\"]=LE.fit_transform(data[\"odor\"])\n",
    "data[\"gill-attachment\"]=LE.fit_transform(data[\"gill-attachment\"])\n",
    "data[\"gill-spacing\"]=LE.fit_transform(data[\"gill-spacing\"])\n",
    "data[\"gill-size\"]=LE.fit_transform(data[\"gill-size\"])\n",
    "data[\"gill-color\"]=LE.fit_transform(data[\"gill-color\"])\n",
    "data[\"stalk-shape\"]=LE.fit_transform(data[\"stalk-shape\"])\n",
    "data[\"stalk-root\"]=LE.fit_transform(data[\"stalk-root\"])\n",
    "data[\"stalk-surface-above-ring\"]=LE.fit_transform(data[\"stalk-surface-above-ring\"])\n",
    "data[\"stalk-surface-below-ring\"]=LE.fit_transform(data[\"stalk-surface-below-ring\"])\n",
    "data[\"stalk-color-above-ring\"]=LE.fit_transform(data[\"stalk-color-above-ring\"])\n",
    "data[\"stalk-color-below-ring\"]=LE.fit_transform(data[\"stalk-color-below-ring\"])\n",
    "data[\"veil-type\"]=LE.fit_transform(data[\"veil-type\"])\n",
    "data[\"veil-color\"]=LE.fit_transform(data[\"veil-color\"])\n",
    "data[\"ring-number\"]=LE.fit_transform(data[\"ring-number\"])\n",
    "data[\"ring-type\"]=LE.fit_transform(data[\"ring-type\"])\n",
    "data[\"spore-print-color\"]=LE.fit_transform(data[\"spore-print-color\"])\n",
    "data[\"population\"]=LE.fit_transform(data[\"population\"])\n",
    "data[\"habitat\"]=LE.fit_transform(data[\"habitat\"])\n"
   ]
  },
  {
   "cell_type": "code",
   "execution_count": null,
   "id": "7164e05d",
   "metadata": {},
   "outputs": [],
   "source": [
    "data"
   ]
  },
  {
   "cell_type": "markdown",
   "id": "6f40bf17",
   "metadata": {},
   "source": [
    "### Checking Correlation"
   ]
  },
  {
   "cell_type": "code",
   "execution_count": null,
   "id": "3147d15f",
   "metadata": {},
   "outputs": [],
   "source": [
    "corre_matrix=data.corr()\n",
    "corre_matrix['class'].sort_values(ascending=False)"
   ]
  },
  {
   "cell_type": "markdown",
   "id": "c0e3080f",
   "metadata": {},
   "source": [
    "### Splitting the dataset in independent and target variable"
   ]
  },
  {
   "cell_type": "code",
   "execution_count": null,
   "id": "3b7c45cb",
   "metadata": {},
   "outputs": [],
   "source": [
    "x=data.drop('class',axis=1)\n",
    "y=data['class']"
   ]
  },
  {
   "cell_type": "code",
   "execution_count": null,
   "id": "37b55e59",
   "metadata": {},
   "outputs": [],
   "source": [
    "x"
   ]
  },
  {
   "cell_type": "code",
   "execution_count": null,
   "id": "52d00574",
   "metadata": {},
   "outputs": [],
   "source": [
    "y"
   ]
  },
  {
   "cell_type": "markdown",
   "id": "96e3d6bc",
   "metadata": {},
   "source": [
    "### Finding best random state"
   ]
  },
  {
   "cell_type": "code",
   "execution_count": null,
   "id": "bfc9cf5d",
   "metadata": {},
   "outputs": [],
   "source": [
    "maxAccu=0 #maximum accuracy\n",
    "maxRS=0  # best random state value for which max accuracy is achieved\n",
    "for i in range(1,200):\n",
    "    x_train,x_test,y_train,y_test=train_test_split(x,y,test_size=0.25,random_state=i)\n",
    "    LR=LogisticRegression()\n",
    "    LR.fit(x_train,y_train)\n",
    "    pred=LR.predict(x_test)\n",
    "    acc=accuracy_score(y_test,pred)\n",
    "    if acc>maxAccu:\n",
    "        maxAccu=acc\n",
    "        maxRS=i\n",
    "print('Max Accuracy is',maxAccu,'on Random State ',maxRS)"
   ]
  },
  {
   "cell_type": "markdown",
   "id": "01709247",
   "metadata": {},
   "source": [
    "### Creating the Training and testing data"
   ]
  },
  {
   "cell_type": "code",
   "execution_count": null,
   "id": "8ab08160",
   "metadata": {},
   "outputs": [],
   "source": [
    "x_train,x_test,y_train,y_test=train_test_split(x,y,test_size=0.25,random_state=21)\n",
    "\n",
    "\n",
    "\n"
   ]
  },
  {
   "cell_type": "code",
   "execution_count": null,
   "id": "c13e80a1",
   "metadata": {},
   "outputs": [],
   "source": [
    "x_train.shape"
   ]
  },
  {
   "cell_type": "code",
   "execution_count": null,
   "id": "b7e5f01d",
   "metadata": {},
   "outputs": [],
   "source": [
    "y_train.shape"
   ]
  },
  {
   "cell_type": "code",
   "execution_count": null,
   "id": "f3d26182",
   "metadata": {},
   "outputs": [],
   "source": [
    "x_test.shape"
   ]
  },
  {
   "cell_type": "code",
   "execution_count": null,
   "id": "d755d839",
   "metadata": {},
   "outputs": [],
   "source": [
    "y_test.shape"
   ]
  },
  {
   "cell_type": "markdown",
   "id": "5b027748",
   "metadata": {},
   "source": [
    "### Logistic Regression"
   ]
  },
  {
   "cell_type": "code",
   "execution_count": null,
   "id": "66a39ee9",
   "metadata": {},
   "outputs": [],
   "source": [
    "LR=LogisticRegression()\n",
    "LR.fit(x_train,y_train)\n",
    "pred=LR.predict(x_test)\n",
    "print('Accuracy ',accuracy_score(y_test,pred)*100)\n",
    "print(confusion_matrix(y_test,pred))\n",
    "print(classification_report(y_test,pred))"
   ]
  },
  {
   "cell_type": "markdown",
   "id": "34cb8108",
   "metadata": {},
   "source": [
    "### Decision Tree Classifier"
   ]
  },
  {
   "cell_type": "code",
   "execution_count": null,
   "id": "e0308ff0",
   "metadata": {},
   "outputs": [],
   "source": [
    "from sklearn.tree import DecisionTreeClassifier\n",
    "DT=DecisionTreeClassifier()\n",
    "DT.fit(x_train,y_train)\n",
    "pred=DT.predict(x_test)\n",
    "print('Accuracy ',accuracy_score(y_test,pred)*100)\n",
    "print(confusion_matrix(y_test,pred))\n",
    "print(classification_report(y_test,pred))"
   ]
  },
  {
   "cell_type": "code",
   "execution_count": null,
   "id": "1b40e8ac",
   "metadata": {},
   "outputs": [],
   "source": [
    "from sklearn.ensemble import RandomForestClassifier\n",
    "RF=RandomForestClassifier()\n",
    "RF.fit(x_train,y_train)\n",
    "pred=RF.predict(x_test)\n",
    "print('Accuracy ',accuracy_score(y_test,pred)*100)\n",
    "print(confusion_matrix(y_test,pred))\n",
    "print(classification_report(y_test,pred))"
   ]
  },
  {
   "cell_type": "markdown",
   "id": "e599ada6",
   "metadata": {},
   "source": [
    "### Cross Validation\n"
   ]
  },
  {
   "cell_type": "code",
   "execution_count": null,
   "id": "c138cf0d",
   "metadata": {},
   "outputs": [],
   "source": [
    "from sklearn.model_selection import cross_val_score\n",
    "cvs=cross_val_score(LR,x,y,cv=5)\n",
    "print(\"Cross Validation score for Logistic Regression \",cvs.mean())"
   ]
  },
  {
   "cell_type": "code",
   "execution_count": null,
   "id": "bca4a9fc",
   "metadata": {},
   "outputs": [],
   "source": [
    "cvs=cross_val_score(DT,x,y,cv=5)\n",
    "print(\"Cross Validation score for Decision Tree Classifier \",cvs.mean())"
   ]
  },
  {
   "cell_type": "code",
   "execution_count": null,
   "id": "ef1e45d9",
   "metadata": {},
   "outputs": [],
   "source": [
    "cvs=cross_val_score(RF,x,y,cv=5)\n",
    "print(\"Cross Validation score for Random Forest Classifier \",cvs.mean())"
   ]
  },
  {
   "cell_type": "markdown",
   "id": "93e1dccb",
   "metadata": {},
   "source": [
    "Decision Tree Classifier is performing better among all so we will continue with Decision Tree Classifier"
   ]
  },
  {
   "cell_type": "markdown",
   "id": "b24f4c9e",
   "metadata": {},
   "source": [
    "### Hyper Parameter Tuning"
   ]
  },
  {
   "cell_type": "code",
   "execution_count": null,
   "id": "483f8681",
   "metadata": {},
   "outputs": [],
   "source": [
    "from sklearn.model_selection import GridSearchCV"
   ]
  },
  {
   "cell_type": "code",
   "execution_count": null,
   "id": "05e2d94c",
   "metadata": {},
   "outputs": [],
   "source": [
    "grid_param={'criterion':['gini','entropy'],'max_depth':range(15,20),'max_leaf_nodes':range(6,8),'min_samples_leaf':range(15,20),'min_samples_split':range(3,10)}\n",
    "grid_search=GridSearchCV(estimator=DT,param_grid=grid_param,cv=5,n_jobs=-1)\n"
   ]
  },
  {
   "cell_type": "code",
   "execution_count": null,
   "id": "17177ee9",
   "metadata": {},
   "outputs": [],
   "source": [
    "grid_search.fit(x_train,y_train) # fitting the data in model"
   ]
  },
  {
   "cell_type": "code",
   "execution_count": null,
   "id": "25049a6b",
   "metadata": {},
   "outputs": [],
   "source": [
    "best_parameters=grid_search.best_params_  \n",
    "print(best_parameters)  # printing the best parameters found by GridSearchCV"
   ]
  },
  {
   "cell_type": "code",
   "execution_count": null,
   "id": "70570391",
   "metadata": {},
   "outputs": [],
   "source": [
    "GCV_pred=grid_search.best_estimator_.predict(x_test) #predicting with best parameters\n",
    "accuracy_score(y_test,GCV_pred)"
   ]
  },
  {
   "cell_type": "markdown",
   "id": "740ba808",
   "metadata": {},
   "source": [
    "### ROC AUC plot"
   ]
  },
  {
   "cell_type": "code",
   "execution_count": null,
   "id": "95e79576",
   "metadata": {},
   "outputs": [],
   "source": [
    "from sklearn.metrics import plot_roc_curve"
   ]
  },
  {
   "cell_type": "code",
   "execution_count": null,
   "id": "60c899f0",
   "metadata": {},
   "outputs": [],
   "source": [
    "plot_roc_curve(grid_search.best_estimator_,x_test,y_test)\n",
    "plt.title('ROC AUC CURVE')\n",
    "plt.show"
   ]
  },
  {
   "cell_type": "code",
   "execution_count": null,
   "id": "cbb0402f",
   "metadata": {},
   "outputs": [],
   "source": []
  }
 ],
 "metadata": {
  "kernelspec": {
   "display_name": "Python 3",
   "language": "python",
   "name": "python3"
  },
  "language_info": {
   "codemirror_mode": {
    "name": "ipython",
    "version": 3
   },
   "file_extension": ".py",
   "mimetype": "text/x-python",
   "name": "python",
   "nbconvert_exporter": "python",
   "pygments_lexer": "ipython3",
   "version": "3.8.8"
  }
 },
 "nbformat": 4,
 "nbformat_minor": 5
}
